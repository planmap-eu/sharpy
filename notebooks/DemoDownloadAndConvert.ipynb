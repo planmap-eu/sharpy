{
 "cells": [
  {
   "cell_type": "code",
   "execution_count": 2,
   "metadata": {},
   "outputs": [
    {
     "name": "stdout",
     "output_type": "stream",
     "text": [
      "Populating the interactive namespace from numpy and matplotlib\n"
     ]
    }
   ],
   "source": [
    "%pylab inline\n",
    "from sharpy import * "
   ]
  },
  {
   "cell_type": "code",
   "execution_count": 3,
   "metadata": {},
   "outputs": [],
   "source": [
    "\n",
    "\n",
    "\n",
    "from shapely.geometry import LineString"
   ]
  },
  {
   "cell_type": "code",
   "execution_count": 4,
   "metadata": {},
   "outputs": [],
   "source": [
    "sid = \"00699002\""
   ]
  },
  {
   "cell_type": "code",
   "execution_count": null,
   "metadata": {},
   "outputs": [],
   "source": [
    "download_data_fot_sharad_id(sid, \"test_data\")"
   ]
  },
  {
   "cell_type": "code",
   "execution_count": 5,
   "metadata": {},
   "outputs": [],
   "source": [
    "lbl = find_sharad_radargrams_in_folder(\"test_data\")[0]\n",
    "\n",
    "tiffname = lbl[0:-8] + \"tiff.tif\"\n",
    "segyname = lbl[0:-8] + \"segy.sgy\"\n",
    "geomfname = lbl_to_geom(lbl) \n",
    "\n",
    "tab = read_geom_lbl(geomfname)\n",
    "gtab = pandas_to_geopandas_points(tab)\n",
    "\n",
    "asnp = gtab.to_crs( north_pole_crs)\n",
    "\n",
    "# mytrack = LineString(asnp.geometry)\n",
    "startpoint = asnp.geometry.values[0]\n",
    "endpoint = asnp.geometry.values[-1]\n",
    "x_start, y_start = np.array(startpoint.xy).T[0]\n",
    "x_end, y_end = np.array(endpoint.xy).T[0]\n",
    "\n",
    "\n",
    "# y_o = 173200\n",
    "# x_o = -122600\n",
    "\n",
    "\n",
    "x_start -= x_start\n",
    "x_end -= x_start\n",
    "\n",
    "y_start -= y_start\n",
    "y_end -= y_start"
   ]
  },
  {
   "cell_type": "code",
   "execution_count": 6,
   "metadata": {},
   "outputs": [
    {
     "name": "stderr",
     "output_type": "stream",
     "text": [
      "WARNING:fiona._env:Normalized/laundered field name: 'radargram_column' to 'radargram_'\n",
      "WARNING:fiona._env:Normalized/laundered field name: 'mars_radius' to 'mars_radiu'\n",
      "WARNING:fiona._env:Normalized/laundered field name: 'spacecraft_radius' to 'spacecraft'\n",
      "WARNING:fiona._env:Normalized/laundered field name: 'radial_velocity' to 'radial_vel'\n",
      "WARNING:fiona._env:Normalized/laundered field name: 'tangential_velocity' to 'tangential'\n",
      "WARNING:fiona._env:Normalized/laundered field name: 'phase_1.0e16' to 'phase_1.0e'\n"
     ]
    }
   ],
   "source": [
    "asnp.to_file(\"test_data/segment\")"
   ]
  },
  {
   "cell_type": "code",
   "execution_count": 10,
   "metadata": {},
   "outputs": [],
   "source": [
    "image = plt.imread(tiffname)\n",
    "image = image -  np.mean(image)\n",
    "image = image * 1000\n",
    "\n",
    "out=assemply_segy(image, x_start, x_end, y_start, y_end, scaler=100, dt=0.01)\n",
    "save_segy(out, segyname)"
   ]
  },
  {
   "cell_type": "code",
   "execution_count": null,
   "metadata": {},
   "outputs": [],
   "source": [
    "hist(image)"
   ]
  },
  {
   "cell_type": "code",
   "execution_count": 77,
   "metadata": {},
   "outputs": [
    {
     "data": {
      "text/plain": [
       "0.0"
      ]
     },
     "execution_count": 77,
     "metadata": {},
     "output_type": "execute_result"
    }
   ],
   "source": [
    "y_start"
   ]
  },
  {
   "cell_type": "code",
   "execution_count": 52,
   "metadata": {},
   "outputs": [],
   "source": [
    "import segyio\n",
    "f = segyio.open(segyname, ignore_geometry=1)"
   ]
  },
  {
   "cell_type": "code",
   "execution_count": 53,
   "metadata": {},
   "outputs": [
    {
     "data": {
      "text/plain": [
       "Trace(traces = 7504, samples = 3600)"
      ]
     },
     "execution_count": 53,
     "metadata": {},
     "output_type": "execute_result"
    }
   ],
   "source": [
    "f.trace"
   ]
  },
  {
   "cell_type": "code",
   "execution_count": 54,
   "metadata": {},
   "outputs": [],
   "source": [
    "f= \"/home/luca/Documenti-local/notebooks.git/sharad/newdataset/s_04985301_segy.sgy\""
   ]
  },
  {
   "cell_type": "code",
   "execution_count": 55,
   "metadata": {},
   "outputs": [
    {
     "ename": "RuntimeError",
     "evalue": "unable to find sorting.",
     "output_type": "error",
     "traceback": [
      "\u001b[0;31m---------------------------------------------------------------------------\u001b[0m",
      "\u001b[0;31mRuntimeError\u001b[0m                              Traceback (most recent call last)",
      "\u001b[0;32m<ipython-input-55-0efd7c7ff80a>\u001b[0m in \u001b[0;36m<module>\u001b[0;34m\u001b[0m\n\u001b[0;32m----> 1\u001b[0;31m \u001b[0mf\u001b[0m \u001b[0;34m=\u001b[0m \u001b[0msegyio\u001b[0m\u001b[0;34m.\u001b[0m\u001b[0mopen\u001b[0m\u001b[0;34m(\u001b[0m\u001b[0mf\u001b[0m\u001b[0;34m)\u001b[0m\u001b[0;34m\u001b[0m\u001b[0;34m\u001b[0m\u001b[0m\n\u001b[0m",
      "\u001b[0;32m~/apps/lib/python3.7/site-packages/segyio/open.py\u001b[0m in \u001b[0;36mopen\u001b[0;34m(filename, mode, iline, xline, strict, ignore_geometry, endian)\u001b[0m\n\u001b[1;32m    185\u001b[0m         \u001b[0;32mreturn\u001b[0m \u001b[0mf\u001b[0m\u001b[0;34m\u001b[0m\u001b[0;34m\u001b[0m\u001b[0m\n\u001b[1;32m    186\u001b[0m \u001b[0;34m\u001b[0m\u001b[0m\n\u001b[0;32m--> 187\u001b[0;31m     \u001b[0;32mreturn\u001b[0m \u001b[0minfer_geometry\u001b[0m\u001b[0;34m(\u001b[0m\u001b[0mf\u001b[0m\u001b[0;34m,\u001b[0m \u001b[0mmetrics\u001b[0m\u001b[0;34m,\u001b[0m \u001b[0miline\u001b[0m\u001b[0;34m,\u001b[0m \u001b[0mxline\u001b[0m\u001b[0;34m,\u001b[0m \u001b[0mstrict\u001b[0m\u001b[0;34m)\u001b[0m\u001b[0;34m\u001b[0m\u001b[0;34m\u001b[0m\u001b[0m\n\u001b[0m",
      "\u001b[0;32m~/apps/lib/python3.7/site-packages/segyio/open.py\u001b[0m in \u001b[0;36minfer_geometry\u001b[0;34m(f, metrics, iline, xline, strict)\u001b[0m\n\u001b[1;32m      5\u001b[0m \u001b[0;32mdef\u001b[0m \u001b[0minfer_geometry\u001b[0m\u001b[0;34m(\u001b[0m\u001b[0mf\u001b[0m\u001b[0;34m,\u001b[0m \u001b[0mmetrics\u001b[0m\u001b[0;34m,\u001b[0m \u001b[0miline\u001b[0m\u001b[0;34m,\u001b[0m \u001b[0mxline\u001b[0m\u001b[0;34m,\u001b[0m \u001b[0mstrict\u001b[0m\u001b[0;34m)\u001b[0m\u001b[0;34m:\u001b[0m\u001b[0;34m\u001b[0m\u001b[0;34m\u001b[0m\u001b[0m\n\u001b[1;32m      6\u001b[0m     \u001b[0;32mtry\u001b[0m\u001b[0;34m:\u001b[0m\u001b[0;34m\u001b[0m\u001b[0;34m\u001b[0m\u001b[0m\n\u001b[0;32m----> 7\u001b[0;31m         \u001b[0mcube_metrics\u001b[0m \u001b[0;34m=\u001b[0m \u001b[0mf\u001b[0m\u001b[0;34m.\u001b[0m\u001b[0mxfd\u001b[0m\u001b[0;34m.\u001b[0m\u001b[0mcube_metrics\u001b[0m\u001b[0;34m(\u001b[0m\u001b[0miline\u001b[0m\u001b[0;34m,\u001b[0m \u001b[0mxline\u001b[0m\u001b[0;34m)\u001b[0m\u001b[0;34m\u001b[0m\u001b[0;34m\u001b[0m\u001b[0m\n\u001b[0m\u001b[1;32m      8\u001b[0m         \u001b[0mf\u001b[0m\u001b[0;34m.\u001b[0m\u001b[0m_sorting\u001b[0m   \u001b[0;34m=\u001b[0m \u001b[0mcube_metrics\u001b[0m\u001b[0;34m[\u001b[0m\u001b[0;34m'sorting'\u001b[0m\u001b[0;34m]\u001b[0m\u001b[0;34m\u001b[0m\u001b[0;34m\u001b[0m\u001b[0m\n\u001b[1;32m      9\u001b[0m         \u001b[0miline_count\u001b[0m  \u001b[0;34m=\u001b[0m \u001b[0mcube_metrics\u001b[0m\u001b[0;34m[\u001b[0m\u001b[0;34m'iline_count'\u001b[0m\u001b[0;34m]\u001b[0m\u001b[0;34m\u001b[0m\u001b[0;34m\u001b[0m\u001b[0m\n",
      "\u001b[0;31mRuntimeError\u001b[0m: unable to find sorting."
     ]
    }
   ],
   "source": [
    "f = segyio.open(f)"
   ]
  },
  {
   "cell_type": "code",
   "execution_count": null,
   "metadata": {},
   "outputs": [],
   "source": []
  }
 ],
 "metadata": {
  "kernelspec": {
   "display_name": "Python 3",
   "language": "python",
   "name": "python3"
  },
  "language_info": {
   "codemirror_mode": {
    "name": "ipython",
    "version": 3
   },
   "file_extension": ".py",
   "mimetype": "text/x-python",
   "name": "python",
   "nbconvert_exporter": "python",
   "pygments_lexer": "ipython3",
   "version": "3.7.3"
  }
 },
 "nbformat": 4,
 "nbformat_minor": 2
}
