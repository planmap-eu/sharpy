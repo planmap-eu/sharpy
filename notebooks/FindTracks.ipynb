{
 "cells": [
  {
   "cell_type": "code",
   "execution_count": 50,
   "metadata": {},
   "outputs": [],
   "source": [
    "from sharad import *\n",
    "regions = \"/data/SciBigData/radargrams/regions.gpkg\"\n",
    "layer = \"regions\"\n",
    "\n",
    "alltracks = \"alltracks\"\n",
    "tracks=GeoDataFrame.from_file(alltracks)\n",
    "\n",
    "\n",
    "regs = GeoDataFrame.from_file(regions, layer=layer, crs=fiona.crs.from_string(\"+proj=stere +lat_0=90 +lat_ts=90 +lon_0=0 +k=1 +x_0=0 +y_0=0 +a=3376200 +b=3376200 +units=m +no_defs\"))\n",
    "regs = regs.to_crs(tracks.crs)\n"
   ]
  },
  {
   "cell_type": "code",
   "execution_count": 55,
   "metadata": {},
   "outputs": [
    {
     "data": {
      "text/plain": [
       "0                                                       ()\n",
       "1                                                       ()\n",
       "2                                                       ()\n",
       "3                                                       ()\n",
       "4                                                       ()\n",
       "5        LINESTRING (57.90020926761893 86.0864687347582...\n",
       "6                                                       ()\n",
       "7                                                       ()\n",
       "8                                                       ()\n",
       "9                                                       ()\n",
       "10                                                      ()\n",
       "11                                                      ()\n",
       "12                                                      ()\n",
       "13                                                      ()\n",
       "14                                                      ()\n",
       "15                                                      ()\n",
       "16                                                      ()\n",
       "17                                                      ()\n",
       "18                                                      ()\n",
       "19                                                      ()\n",
       "20                                                      ()\n",
       "21                                                      ()\n",
       "22                                                      ()\n",
       "23                                                      ()\n",
       "24                                                      ()\n",
       "25                                                      ()\n",
       "26                                                      ()\n",
       "27                                                      ()\n",
       "28                                                      ()\n",
       "29                                                      ()\n",
       "                               ...                        \n",
       "21841                                                   ()\n",
       "21842                                                   ()\n",
       "21843                                                   ()\n",
       "21844                                                   ()\n",
       "21845                                                   ()\n",
       "21846                                                   ()\n",
       "21847                                                   ()\n",
       "21848                                                   ()\n",
       "21849                                                   ()\n",
       "21850                                                   ()\n",
       "21851                                                   ()\n",
       "21852                                                   ()\n",
       "21853                                                   ()\n",
       "21854                                                   ()\n",
       "21855                                                   ()\n",
       "21856                                                   ()\n",
       "21857                                                   ()\n",
       "21858                                                   ()\n",
       "21859                                                   ()\n",
       "21860                                                   ()\n",
       "21861                                                   ()\n",
       "21862                                                   ()\n",
       "21863    LINESTRING (56.30761674293981 86.2699948727731...\n",
       "21864                                                   ()\n",
       "21865                                                   ()\n",
       "21866                                                   ()\n",
       "21867                                                   ()\n",
       "21868                                                   ()\n",
       "21869                                                   ()\n",
       "21870                                                   ()\n",
       "Length: 21871, dtype: object"
      ]
     },
     "execution_count": 55,
     "metadata": {},
     "output_type": "execute_result"
    }
   ],
   "source": []
  },
  {
   "cell_type": "code",
   "execution_count": 57,
   "metadata": {},
   "outputs": [],
   "source": [
    "inttrack = tracks[tracks.intersects(regs.geometry[0])]\n",
    "\n",
    "inttracks = inttrack.intersection(regs.geometry[0])\n",
    "\n",
    "iid = inttrack.track_id\n",
    "\n",
    "inttracks.to_file(\"intersecting\")"
   ]
  },
  {
   "cell_type": "code",
   "execution_count": 48,
   "metadata": {},
   "outputs": [
    {
     "name": "stderr",
     "output_type": "stream",
     "text": [
      "/usr/lib/python3.7/site-packages/ipykernel_launcher.py:1: FutureWarning: The signature of `Series.to_csv` was aligned to that of `DataFrame.to_csv`, and argument 'header' will change its default value from False to True: please pass an explicit value to suppress this warning.\n",
      "  \"\"\"Entry point for launching an IPython kernel.\n"
     ]
    }
   ],
   "source": [
    "iid.to_csv(\"ids_to_download.csv\")"
   ]
  },
  {
   "cell_type": "code",
   "execution_count": 27,
   "metadata": {},
   "outputs": [
    {
     "data": {
      "text/plain": [
       "0        LINESTRING (153.6902 46.0853, 153.4986 44.9527...\n",
       "1        LINESTRING (260.5013 29.7729, 260.2999 28.3143...\n",
       "2        LINESTRING (57.4871 30.3289, 57.337 29.2507, 5...\n",
       "3        LINESTRING (340.5212 29.788, 340.2386 27.7017,...\n",
       "4        LINESTRING (26.7015 3.3243, 26.2867 -0.0796999...\n",
       "5        LINESTRING (190.4137 69.92449999999999, 190.16...\n",
       "6        LINESTRING (69.35590000000001 29.4812, 68.9911...\n",
       "7        LINESTRING (277.4396 72.8109, 277.1069 73.3313...\n",
       "8        LINESTRING (352.5408 29.8185, 352.2581 27.74, ...\n",
       "9        LINESTRING (303.053 29.7098, 302.6993 27.1193,...\n",
       "10       LINESTRING (321.6841 -61.7922, 321.5343 -61.25...\n",
       "11       LINESTRING (101.7338 72.8946, 101.4031 73.4151...\n",
       "12       LINESTRING (238.3118 29.7602, 238.1665 28.7132...\n",
       "13       LINESTRING (164.9499 69.9228, 164.7 70.446, 16...\n",
       "14       LINESTRING (166.1386 74.8657, 165.7581 74.3438...\n",
       "15       LINESTRING (168.1984 75.1718, 167.8041 74.6500...\n",
       "16       LINESTRING (196.3586 9.457800000000001, 195.94...\n",
       "17       LINESTRING (345.6192 29.8399, 345.3316 27.7217...\n",
       "18       LINESTRING (250.0749 72.726, 249.7411 73.24639...\n",
       "19       LINESTRING (357.647 29.7998, 357.361 27.6972, ...\n",
       "20       LINESTRING (52.3765 30.32, 52.188 28.9632, 52....\n",
       "21       LINESTRING (134.1427 29.7697, 133.7825 27.1239...\n",
       "22       LINESTRING (270.6663 29.5869, 270.3048 26.9578...\n",
       "23       LINESTRING (63.0011 -53.2636, 62.7786 -54.315,...\n",
       "24       LINESTRING (296.6056 33.0526, 296.3856 31.5015...\n",
       "25       LINESTRING (236.0685 66.48860000000001, 235.86...\n",
       "26       LINESTRING (327.3475 -25.4119, 327.1396 -23.82...\n",
       "27       LINESTRING (236.5787 30.4046, 236.3834 29.0008...\n",
       "28             LINESTRING (11.9909 8.2867, 11.5812 4.9368)\n",
       "29       LINESTRING (19.9627 30.5677, 19.7809 29.2483, ...\n",
       "                               ...                        \n",
       "21841    LINESTRING (208.6019 62.1656, 208.4479 62.6873...\n",
       "21842    LINESTRING (186.8377 75.18259999999999, 186.44...\n",
       "21843    LINESTRING (158.5052 19.3409, 158.0293 15.5865...\n",
       "21844    LINESTRING (26.1587 47.7063, 25.94 46.4727, 25...\n",
       "21845    LINESTRING (132.1782 -48.6071, 131.9765 -49.70...\n",
       "21846    LINESTRING (38.9496 -54.6596, 38.7274 -55.6679...\n",
       "21847    LINESTRING (263.133 61.92, 262.9734 62.455, 26...\n",
       "21848    LINESTRING (198.0168 35.0615, 197.7872 33.4711...\n",
       "21849    LINESTRING (3.8122 -57.7115, 3.6864 -58.239, 3...\n",
       "21850    LINESTRING (142.892 28.5301, 142.6787 30.089, ...\n",
       "21851    LINESTRING (117.6168 65.89879999999999, 117.43...\n",
       "21852    LINESTRING (41.2149 47.7213, 41.0257 46.6584, ...\n",
       "21853    LINESTRING (327.2924 -21.7455, 327.0848 -23.35...\n",
       "21854    LINESTRING (202.2074 44.698, 202.0177 43.5573,...\n",
       "21855    LINESTRING (167.5321 79.90179999999999, 166.75...\n",
       "21856    LINESTRING (110.4845 -29.6533, 110.2641 -31.25...\n",
       "21857    LINESTRING (38.6427 77.83929999999999, 38.0237...\n",
       "21858    LINESTRING (114.9982 -33.6358, 114.6877 -35.79...\n",
       "21859    LINESTRING (205.0042 29.5458, 204.7871 27.9561...\n",
       "21860    LINESTRING (108.5911 79.9427, 107.7741 79.4359...\n",
       "21861    LINESTRING (180.0119 66.6469, 179.8085 66.0832...\n",
       "21862    LINESTRING (299.5045 79.93980000000001, 298.69...\n",
       "21863    LINESTRING (60.9054 86.5484, 54.8478 86.1816, ...\n",
       "21864    LINESTRING (155.8047 69.8777, 155.5582 70.401,...\n",
       "21865    LINESTRING (99.405 72.9067, 99.07470000000001 ...\n",
       "21866    LINESTRING (327.2684 -51.6952, 327.0812 -52.65...\n",
       "21867    LINESTRING (230.3736 -19.8009, 230.0997 -17.65...\n",
       "21868    LINESTRING (218.0227 79.32559999999999, 217.32...\n",
       "21869    LINESTRING (284.084 33.2206, 283.8665 31.6843,...\n",
       "21870    LINESTRING (97.9327 59.9893, 97.7946 59.4623, ...\n",
       "Name: geometry, Length: 21871, dtype: object"
      ]
     },
     "execution_count": 27,
     "metadata": {},
     "output_type": "execute_result"
    }
   ],
   "source": [
    "tracks.geometry"
   ]
  },
  {
   "cell_type": "code",
   "execution_count": null,
   "metadata": {},
   "outputs": [],
   "source": []
  }
 ],
 "metadata": {
  "kernelspec": {
   "display_name": "Python 3",
   "language": "python",
   "name": "python3"
  },
  "language_info": {
   "codemirror_mode": {
    "name": "ipython",
    "version": 3
   },
   "file_extension": ".py",
   "mimetype": "text/x-python",
   "name": "python",
   "nbconvert_exporter": "python",
   "pygments_lexer": "ipython3",
   "version": "3.7.3"
  }
 },
 "nbformat": 4,
 "nbformat_minor": 2
}
