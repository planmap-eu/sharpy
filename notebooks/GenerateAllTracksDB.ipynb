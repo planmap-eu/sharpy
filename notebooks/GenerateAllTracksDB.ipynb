{
 "cells": [
  {
   "cell_type": "code",
   "execution_count": 12,
   "metadata": {},
   "outputs": [
    {
     "name": "stderr",
     "output_type": "stream",
     "text": [
      "DEBUG:matplotlib.pyplot:Loaded backend module://ipykernel.pylab.backend_inline version unknown.\n",
      "/usr/lib/python3.7/site-packages/IPython/core/magics/pylab.py:160: UserWarning: pylab import has clobbered these variables: ['f', 'log', 'dtype', 'datetime']\n",
      "`%matplotlib` prevents importing * from pylab and numpy\n",
      "  \"\\n`%matplotlib` prevents importing * from pylab and numpy\"\n",
      "INFO:root:/data/SciBigData/radargrams/geom//**/*_geom.lbl\n",
      "INFO:root:found 21871 radargrams geom-files\n"
     ]
    },
    {
     "name": "stdout",
     "output_type": "stream",
     "text": [
      "Populating the interactive namespace from numpy and matplotlib\n"
     ]
    }
   ],
   "source": [
    "%pylab inline\n",
    "import logging as log\n",
    "log.getLogger().setLevel(log.INFO)\n",
    "import pandas as pd\n",
    "from ipypb import track\n",
    "import pandas as pd\n",
    "from geopandas import GeoDataFrame\n",
    "from pandas import DataFramed\n",
    "from shapely.geometry import Point\n",
    "import fiona\n",
    "import regex\n",
    "from datetime import datetime\n",
    "from sharpy import *\n",
    "\n",
    "import glob\n",
    "\n",
    "names = [\"RADARGRAM COLUMN\", \"TIME\", \"LATITUDE\", \"LONGITUDE\", \"MARS RADIUS\", \"SPACECRAFT RADIUS\", \n",
    "                 \"RADIAL VELOCITY\", \"TANGENTIAL VELOCITY\", \"SZA\", \"PHASE/1.0E16\"]\n",
    "\n",
    "types = [int, datetime, float, float, float, float, float, float, float, float]\n",
    "names = [n.replace(\" \", \"_\").replace(\"/\", \"_\").lower() for n in names]\n",
    "\n",
    "\n",
    "dtype = [t for t in zip(names, types)]\n",
    "\n",
    "geom_f = \"/data/SciBigData/radargrams/geom/\"\n",
    "pattern = geom_f + \"/**/*_geom.lbl\"\n",
    "log.info(pattern)\n",
    "\n",
    "allgeoms = glob.glob(pattern)\n",
    "\n",
    "log.info(f\"found {len(allgeoms)} radargrams geom-files\")"
   ]
  },
  {
   "cell_type": "code",
   "execution_count": 13,
   "metadata": {},
   "outputs": [],
   "source": [
    "from shapely.geometry import Point, LineString, MultiLineString"
   ]
  },
  {
   "cell_type": "code",
   "execution_count": 15,
   "metadata": {},
   "outputs": [
    {
     "data": {
      "text/html": [
       "<div><span class=\"Text-label\" style=\"display:inline-block; overflow:hidden; white-space:nowrap; text-overflow:ellipsis; min-width:0; max-width:15ex; vertical-align:middle; text-align:right\"></span>\n",
       "<progress style=\"width:60ex\" max=\"21871\" value=\"21871\" class=\"Progress-main\"/></progress>\n",
       "<span class=\"Progress-label\"><strong>100%</strong></span>\n",
       "<span class=\"Iteration-label\">21800/21871</span>\n",
       "<span class=\"Time-label\">[30:31<00:00, 0.08s/it]</span></div>"
      ],
      "text/plain": [
       "\u001b[A\u001b[2K\r",
       " [████████████████████████████████████████████████████████████] 21871/21871 [30:31<00:00, 0.08s/it]"
      ]
     },
     "metadata": {},
     "output_type": "display_data"
    }
   ],
   "source": [
    "# this is the actual loop injesting the geom files and simplyfying them\n",
    "out = []\n",
    "ids = []\n",
    "for f in track(allgeoms):\n",
    "    tab = lbl_to_geom(f)\n",
    "    df = read_geom_lbl(tab)\n",
    "    geometry = LineString([Point(xy) for xy in zip(df.longitude, df.latitude)])\n",
    "    geometry= geometry.simplify(0.001)\n",
    "    i = ids.append( match_sharad_id(f) )\n",
    "    out.append(geometry)\n",
    "    "
   ]
  },
  {
   "cell_type": "code",
   "execution_count": 16,
   "metadata": {},
   "outputs": [],
   "source": []
  },
  {
   "cell_type": "code",
   "execution_count": 1,
   "metadata": {},
   "outputs": [
    {
     "ename": "NameError",
     "evalue": "name 'DataFrame' is not defined",
     "output_type": "error",
     "traceback": [
      "\u001b[0;31m---------------------------------------------------------------------------\u001b[0m",
      "\u001b[0;31mNameError\u001b[0m                                 Traceback (most recent call last)",
      "\u001b[0;32m<ipython-input-1-dc541a2c42d5>\u001b[0m in \u001b[0;36m<module>\u001b[0;34m\u001b[0m\n\u001b[0;32m----> 1\u001b[0;31m \u001b[0mdf\u001b[0m \u001b[0;34m=\u001b[0m \u001b[0mDataFrame\u001b[0m\u001b[0;34m(\u001b[0m\u001b[0;34m)\u001b[0m\u001b[0;34m\u001b[0m\u001b[0;34m\u001b[0m\u001b[0m\n\u001b[0m\u001b[1;32m      2\u001b[0m \u001b[0mdf\u001b[0m\u001b[0;34m[\u001b[0m\u001b[0;34m\"track_id\"\u001b[0m\u001b[0;34m]\u001b[0m \u001b[0;34m=\u001b[0m \u001b[0mids\u001b[0m\u001b[0;34m\u001b[0m\u001b[0;34m\u001b[0m\u001b[0m\n",
      "\u001b[0;31mNameError\u001b[0m: name 'DataFrame' is not defined"
     ]
    }
   ],
   "source": [
    "df = DataFrame()\n",
    "df[\"track_id\"] = ids"
   ]
  },
  {
   "cell_type": "code",
   "execution_count": 18,
   "metadata": {},
   "outputs": [],
   "source": [
    "crs = fiona.crs.from_string(\"+proj=longlat +a=3396190 +b=3376200 +no_defs\") # MARS 2000\n",
    "gf = GeoDataFrame(df, crs=crs, geometry=out)"
   ]
  },
  {
   "cell_type": "code",
   "execution_count": 19,
   "metadata": {},
   "outputs": [],
   "source": [
    "gf.to_file(\"alltracks\")"
   ]
  },
  {
   "cell_type": "code",
   "execution_count": null,
   "metadata": {},
   "outputs": [],
   "source": []
  }
 ],
 "metadata": {
  "kernelspec": {
   "display_name": "Python 3",
   "language": "python",
   "name": "python3"
  },
  "language_info": {
   "codemirror_mode": {
    "name": "ipython",
    "version": 3
   },
   "file_extension": ".py",
   "mimetype": "text/x-python",
   "name": "python",
   "nbconvert_exporter": "python",
   "pygments_lexer": "ipython3",
   "version": "3.7.3"
  }
 },
 "nbformat": 4,
 "nbformat_minor": 2
}
