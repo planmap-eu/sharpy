{
 "cells": [
  {
   "cell_type": "markdown",
   "metadata": {},
   "source": [
    "# read a set of tracks and put them into a geopackage for future use"
   ]
  },
  {
   "cell_type": "code",
   "execution_count": 5,
   "metadata": {},
   "outputs": [],
   "source": [
    "\n",
    "from sharpy import *\n",
    "from ipypb import track\n",
    "\n",
    "\n"
   ]
  },
  {
   "cell_type": "code",
   "execution_count": 3,
   "metadata": {},
   "outputs": [
    {
     "name": "stdout",
     "output_type": "stream",
     "text": [
      "['/data/SciBigData/radargrams/nicole_thesis/s_03202402_geom.lbl', '/data/SciBigData/radargrams/nicole_thesis/s_00520802_geom.lbl', '/data/SciBigData/radargrams/nicole_thesis/s_03808002_geom.lbl', '/data/SciBigData/radargrams/nicole_thesis/s_02788401_geom.lbl', '/data/SciBigData/radargrams/nicole_thesis/s_00325703_geom.lbl', '/data/SciBigData/radargrams/nicole_thesis/s_00563902_geom.lbl']\n"
     ]
    }
   ],
   "source": [
    "folder = \"/data/SciBigData/radargrams/nicole_thesis/\"    \n",
    "files = find_sharad_radargrams_in_folder(folder)\n",
    "print (files)"
   ]
  },
  {
   "cell_type": "code",
   "execution_count": 4,
   "metadata": {},
   "outputs": [
    {
     "data": {
      "text/html": [
       "<div><span class=\"Text-label\" style=\"display:inline-block; overflow:hidden; white-space:nowrap; text-overflow:ellipsis; min-width:0; max-width:15ex; vertical-align:middle; text-align:right\"></span>\n",
       "<progress style=\"width:60ex\" max=\"6\" value=\"6\" class=\"Progress-main\"/></progress>\n",
       "<span class=\"Progress-label\"><strong>100%</strong></span>\n",
       "<span class=\"Iteration-label\">6/6</span>\n",
       "<span class=\"Time-label\">[00:13<00:03, 2.19s/it]</span></div>"
      ],
      "text/plain": [
       "\u001b[A\u001b[2K\r",
       " [████████████████████████████████████████████████████████████] 6/6 [00:13<00:03, 2.19s/it]"
      ]
     },
     "metadata": {},
     "output_type": "display_data"
    }
   ],
   "source": [
    "for f in track(files):\n",
    "    tab = lbl_to_geom(f)\n",
    "    t = read_geom_lbl(tab)\n",
    "    t = pandas_to_geopandas_points(t)\n",
    "    lname = match_sharad_id(f)\n",
    "    \n",
    "    t.to_file(os.path.join(folder , \"package.gpkg\"), layer=lname, driver=\"GPKG\")"
   ]
  },
  {
   "cell_type": "code",
   "execution_count": null,
   "metadata": {},
   "outputs": [],
   "source": []
  },
  {
   "cell_type": "code",
   "execution_count": null,
   "metadata": {},
   "outputs": [],
   "source": []
  }
 ],
 "metadata": {
  "kernelspec": {
   "display_name": "Python 3",
   "language": "python",
   "name": "python3"
  },
  "language_info": {
   "codemirror_mode": {
    "name": "ipython",
    "version": 3
   },
   "file_extension": ".py",
   "mimetype": "text/x-python",
   "name": "python",
   "nbconvert_exporter": "python",
   "pygments_lexer": "ipython3",
   "version": "3.7.3"
  }
 },
 "nbformat": 4,
 "nbformat_minor": 2
}
