{
 "cells": [
  {
   "cell_type": "code",
   "execution_count": 28,
   "metadata": {},
   "outputs": [
    {
     "name": "stderr",
     "output_type": "stream",
     "text": [
      "DEBUG:matplotlib.pyplot:Loaded backend module://ipykernel.pylab.backend_inline version unknown.\n",
      "/usr/lib/python3.7/site-packages/IPython/core/magics/pylab.py:160: UserWarning: pylab import has clobbered these variables: ['table', 'datetime', 'log', 'dtype']\n",
      "`%matplotlib` prevents importing * from pylab and numpy\n",
      "  \"\\n`%matplotlib` prevents importing * from pylab and numpy\"\n",
      "INFO:root:/data/SciBigData/radargrams/geom//**/*_geom.lbl\n",
      "INFO:root:found 21871 radargrams geom-files\n"
     ]
    },
    {
     "name": "stdout",
     "output_type": "stream",
     "text": [
      "Populating the interactive namespace from numpy and matplotlib\n"
     ]
    }
   ],
   "source": [
    "%pylab inline\n",
    "import logging as log\n",
    "log.getLogger().setLevel(log.DEBUG)\n",
    "import pandas as pd\n",
    "from ipypb import track\n",
    "import pandas as pd\n",
    "from geopandas import GeoDataFrame\n",
    "from shapely.geometry import Point\n",
    "import fiona\n",
    "import regex\n",
    "import psycopg2\n",
    "from datetime import datetime\n",
    "\n",
    "import glob\n",
    "\n",
    "names = [\"RADARGRAM COLUMN\", \"TIME\", \"LATITUDE\", \"LONGITUDE\", \"MARS RADIUS\", \"SPACECRAFT RADIUS\", \n",
    "                 \"RADIAL VELOCITY\", \"TANGENTIAL VELOCITY\", \"SZA\", \"PHASE/1.0E16\"]\n",
    "\n",
    "types = [int, datetime, float, float, float, float, float, float, float, float]\n",
    "names = [n.replace(\" \", \"_\").replace(\"/\", \"_\").lower() for n in names]\n",
    "\n",
    "\n",
    "dtype = [t for t in zip(names, types)]\n",
    "\n",
    "geom_f = \"/data/SciBigData/radargrams/geom/\"\n",
    "pattern = geom_f + \"/**/*_geom.lbl\"\n",
    "log.info(pattern)\n",
    "\n",
    "allgeoms = glob.glob(pattern)\n",
    "\n",
    "log.info(f\"found {len(allgeoms)} radargrams geom-files\")"
   ]
  },
  {
   "cell_type": "code",
   "execution_count": 29,
   "metadata": {},
   "outputs": [],
   "source": [
    "import sqlite3\n",
    "\n",
    "def lbl_to_geom(lbl_file):\n",
    "    return lbl_file[:-3] + \"tab\"\n",
    "\n",
    "def read_geom_lbl(file):\n",
    "    o = np.genfromtxt(file, dtype=dtype, delimiter=\",\")\n",
    "#     o = np.loadtxt(file, delimiter=\",\")\n",
    "#     table = pd.DataFrame(o)\n",
    "    \n",
    "#     table = pd.read_csv(file, skiprows=0, names=names)\n",
    "#     table = o[[\"latitude\", \"longitude\"]]\n",
    "    return o\n",
    "\n",
    "def pandas_to_geopandas_points(df, xname=\"longitude\", yname=\"latitude\", crs=104971):\n",
    "    geometry = [Point(xy) for xy in zip(df.longitude, df.latitude)]\n",
    "    crs = {'init': f'epsg:{crs}'} #http://www.spatialreference.org/ref/epsg/2263/\n",
    "    geo_df = GeoDataFrame(df, crs=crs, geometry=geometry)\n",
    "    return geo_df\n",
    "\n",
    "def match_id_from_geom_filename(fname):\n",
    "    m = regex.match(\".*_([0-9]*)_geom.lbl\", fname)\n",
    "    return np.int(m.group(1))"
   ]
  },
  {
   "cell_type": "code",
   "execution_count": null,
   "metadata": {},
   "outputs": [],
   "source": []
  },
  {
   "cell_type": "code",
   "execution_count": 30,
   "metadata": {},
   "outputs": [],
   "source": [
    "# c.close()\n",
    "names = [\"RADARGRAM COLUMN\", \"TIME\", \"LATITUDE\", \"LONGITUDE\", \"MARS RADIUS\", \"SPACECRAFT RADIUS\", \n",
    "                 \"RADIAL VELOCITY\", \"TANGENTIAL VELOCITY\", \"SZA\", \"PHASE/1.0E16\"]\n",
    "names = [n.replace(\" \", \"_\").replace(\"/\", \"_\").lower() for n in names]\n",
    "\n",
    "types = [int, datetime, float, float, float, float, float, float, float, float]\n",
    "\n",
    "dtype = [t for t in zip(names, types)]"
   ]
  },
  {
   "cell_type": "code",
   "execution_count": null,
   "metadata": {},
   "outputs": [],
   "source": []
  },
  {
   "cell_type": "code",
   "execution_count": 31,
   "metadata": {},
   "outputs": [],
   "source": [
    "con = psycopg2.connect(dbname='postgres', user='luca', host='localhost')\n",
    "c = con.cursor()\n",
    "# c.execute(\"BEGIN TRANSACTION;\")\n",
    "c.execute(\"COMMIT;\")\n",
    "\n",
    "\n",
    "c.execute(\"\"\"SELECT\n",
    " pg_terminate_backend (pg_stat_activity.pid)\n",
    "FROM\n",
    " pg_stat_activity\n",
    "WHERE\n",
    " pg_stat_activity.datname = 'sharad';\"\"\")\n",
    "\n",
    "c.execute(\"DROP DATABASE IF EXISTS sharad\")\n",
    "c.execute(\"CREATE DATABASE sharad\")\n",
    "# c.execute(\"CREATE EXTENSION postgis;\")\n",
    "# c.execute(\"CREATE EXTENSION postgis_topology;\")\n",
    "\n",
    "c.close()"
   ]
  },
  {
   "cell_type": "code",
   "execution_count": 32,
   "metadata": {},
   "outputs": [],
   "source": [
    "# c = sqlite3.connect(\"mydb3.sqlite\", isolation_level=None)\n",
    "import psycopg2\n",
    "conn = psycopg2.connect(\"dbname=sharad user=luca\")\n",
    "c = conn.cursor()\n",
    "\n",
    "\n",
    "# c.execute('pragma journal_mode=wal')\n",
    "\n",
    "c.execute(\"DROP TABLE IF EXISTS sharad;\")\n",
    "\n",
    "\n",
    "sql =  \"CREATE TABLE sharad \\\n",
    "        (id SERIAL PRIMARY KEY , \\\n",
    "        longitude REAL NOT NULL, \\\n",
    "        latitude REAL NOT NULL, \\\n",
    "        radargram_column INTEGER NOT NULL,\\\n",
    "        track_id INTEGER NOT NULL\\\n",
    "        );\"\n",
    "\n",
    "c.execute(sql)\n",
    "\n"
   ]
  },
  {
   "cell_type": "code",
   "execution_count": 33,
   "metadata": {},
   "outputs": [],
   "source": [
    "# sql = \"SELECT AddGeometryColumn('sharad', 'geometry',\\\n",
    "#   104971, 'POINT', 'XY');\"\n",
    "# c.execute(sql)"
   ]
  },
  {
   "cell_type": "code",
   "execution_count": 34,
   "metadata": {},
   "outputs": [
    {
     "data": {
      "text/html": [
       "<div><span class=\"Text-label\" style=\"display:inline-block; overflow:hidden; white-space:nowrap; text-overflow:ellipsis; min-width:0; max-width:15ex; vertical-align:middle; text-align:right\"></span>\n",
       "<progress style=\"width:60ex\" max=\"21871\" value=\"4801\" class=\"Progress-main\"/></progress>\n",
       "<span class=\"Progress-label\"><strong>22%</strong></span>\n",
       "<span class=\"Iteration-label\">4796/21871</span>\n",
       "<span class=\"Time-label\">[30:50<00:01, 0.39s/it]</span></div>"
      ],
      "text/plain": [
       "\u001b[A\u001b[2K\r",
       " [█████████████###############################################] 4801/21871 [30:50<00:01, 0.39s/it]"
      ]
     },
     "metadata": {},
     "output_type": "display_data"
    },
    {
     "ename": "DiskFull",
     "evalue": "could not extend file \"base/40366/40373\": wrote only 4096 of 8192 bytes at block 43633\nHINT:  Check free disk space.\n",
     "output_type": "error",
     "traceback": [
      "\u001b[0;31m---------------------------------------------------------------------------\u001b[0m",
      "\u001b[0;31mDiskFull\u001b[0m                                  Traceback (most recent call last)",
      "\u001b[0;32m<ipython-input-34-7156d4eb71c5>\u001b[0m in \u001b[0;36m<module>\u001b[0;34m\u001b[0m\n\u001b[1;32m      5\u001b[0m     \u001b[0mtid\u001b[0m \u001b[0;34m=\u001b[0m \u001b[0mmatch_id_from_geom_filename\u001b[0m\u001b[0;34m(\u001b[0m\u001b[0mfname\u001b[0m\u001b[0;34m)\u001b[0m\u001b[0;34m\u001b[0m\u001b[0;34m\u001b[0m\u001b[0m\n\u001b[1;32m      6\u001b[0m \u001b[0;31m#     c.execute(\"BEGIN TRANSACTION;\")\u001b[0m\u001b[0;34m\u001b[0m\u001b[0;34m\u001b[0m\u001b[0;34m\u001b[0m\u001b[0m\n\u001b[0;32m----> 7\u001b[0;31m     \u001b[0mc\u001b[0m\u001b[0;34m.\u001b[0m\u001b[0mexecutemany\u001b[0m\u001b[0;34m(\u001b[0m\u001b[0;34mf\"INSERT INTO sharad VALUES (DEFAULT,%s,%s,%s,{tid})\"\u001b[0m\u001b[0;34m,\u001b[0m \u001b[0mtable\u001b[0m\u001b[0;34m)\u001b[0m\u001b[0;34m\u001b[0m\u001b[0;34m\u001b[0m\u001b[0m\n\u001b[0m\u001b[1;32m      8\u001b[0m \u001b[0;31m#     c.execute(\"COMMIT;\")\u001b[0m\u001b[0;34m\u001b[0m\u001b[0;34m\u001b[0m\u001b[0;34m\u001b[0m\u001b[0m\n\u001b[1;32m      9\u001b[0m \u001b[0;34m\u001b[0m\u001b[0m\n",
      "\u001b[0;31mDiskFull\u001b[0m: could not extend file \"base/40366/40373\": wrote only 4096 of 8192 bytes at block 43633\nHINT:  Check free disk space.\n"
     ]
    }
   ],
   "source": [
    "out = {}\n",
    "for fname in track(allgeoms):\n",
    "    table = read_geom_lbl(lbl_to_geom(fname))\n",
    "    table = np.column_stack([table[\"longitude\"],table[\"latitude\"], table[\"radargram_column\"]])\n",
    "    tid = match_id_from_geom_filename(fname)\n",
    "#     c.execute(\"BEGIN TRANSACTION;\")\n",
    "    c.executemany(f\"INSERT INTO sharad VALUES (DEFAULT,%s,%s,%s,{tid})\", table)\n",
    "#     c.execute(\"COMMIT;\")\n",
    "\n",
    "conn.commit()\n",
    "c.close()"
   ]
  },
  {
   "cell_type": "code",
   "execution_count": null,
   "metadata": {},
   "outputs": [],
   "source": []
  },
  {
   "cell_type": "code",
   "execution_count": 104,
   "metadata": {},
   "outputs": [
    {
     "ename": "UndefinedTable",
     "evalue": "relation \"sharad\" does not exist\nLINE 1: SELECT * FROM sharad\n                      ^\n",
     "output_type": "error",
     "traceback": [
      "\u001b[0;31m---------------------------------------------------------------------------\u001b[0m",
      "\u001b[0;31mUndefinedTable\u001b[0m                            Traceback (most recent call last)",
      "\u001b[0;32m<ipython-input-104-94c3f0b18246>\u001b[0m in \u001b[0;36m<module>\u001b[0;34m\u001b[0m\n\u001b[1;32m      2\u001b[0m \u001b[0mconn\u001b[0m \u001b[0;34m=\u001b[0m \u001b[0mpsycopg2\u001b[0m\u001b[0;34m.\u001b[0m\u001b[0mconnect\u001b[0m\u001b[0;34m(\u001b[0m\u001b[0;34m\"dbname=sharad user=luca\"\u001b[0m\u001b[0;34m)\u001b[0m\u001b[0;34m\u001b[0m\u001b[0;34m\u001b[0m\u001b[0m\n\u001b[1;32m      3\u001b[0m \u001b[0mc\u001b[0m \u001b[0;34m=\u001b[0m \u001b[0mconn\u001b[0m\u001b[0;34m.\u001b[0m\u001b[0mcursor\u001b[0m\u001b[0;34m(\u001b[0m\u001b[0;34m)\u001b[0m\u001b[0;34m\u001b[0m\u001b[0;34m\u001b[0m\u001b[0m\n\u001b[0;32m----> 4\u001b[0;31m \u001b[0mc\u001b[0m\u001b[0;34m.\u001b[0m\u001b[0mexecute\u001b[0m\u001b[0;34m(\u001b[0m\u001b[0;34m\"SELECT * FROM sharad\"\u001b[0m\u001b[0;34m)\u001b[0m\u001b[0;34m\u001b[0m\u001b[0;34m\u001b[0m\u001b[0m\n\u001b[0m",
      "\u001b[0;31mUndefinedTable\u001b[0m: relation \"sharad\" does not exist\nLINE 1: SELECT * FROM sharad\n                      ^\n"
     ]
    }
   ],
   "source": [
    "import psycopg2\n",
    "conn = psycopg2.connect(\"dbname=sharad user=luca\")\n",
    "c = conn.cursor()\n",
    "c.execute(\"SELECT * FROM sharad\")\n"
   ]
  },
  {
   "cell_type": "code",
   "execution_count": 26,
   "metadata": {},
   "outputs": [],
   "source": [
    "c.close()"
   ]
  },
  {
   "cell_type": "code",
   "execution_count": null,
   "metadata": {},
   "outputs": [],
   "source": []
  }
 ],
 "metadata": {
  "kernelspec": {
   "display_name": "Python 3",
   "language": "python",
   "name": "python3"
  },
  "language_info": {
   "codemirror_mode": {
    "name": "ipython",
    "version": 3
   },
   "file_extension": ".py",
   "mimetype": "text/x-python",
   "name": "python",
   "nbconvert_exporter": "python",
   "pygments_lexer": "ipython3",
   "version": "3.7.3"
  }
 },
 "nbformat": 4,
 "nbformat_minor": 2
}
