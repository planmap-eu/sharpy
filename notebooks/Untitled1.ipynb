{
 "cells": [
  {
   "cell_type": "code",
   "execution_count": 1,
   "metadata": {},
   "outputs": [],
   "source": [
    "import psycopg2\n",
    "conn = psycopg2.connect(\"dbname=sharad user=luca host=localhost\")\n"
   ]
  },
  {
   "cell_type": "code",
   "execution_count": 2,
   "metadata": {},
   "outputs": [],
   "source": [
    "\n",
    "c = conn.cursor()\n",
    "\n",
    "# c.execute(\"CREATE EXTENSION postgis;\")\n",
    "# c.execute(\"CREATE EXTENSION postgis_topology;\")\n",
    "# c.execute('pragma journal_mode=wal')\n",
    "\n",
    "# c.execute(\"DROP TABLE IF EXISTS shar;\")\n",
    "\n",
    "\n",
    "sql =  \"CREATE TABLE shar \\\n",
    "        (id SERIAL PRIMARY KEY , \\\n",
    "        longitude REAL NOT NULL, \\\n",
    "        latitude REAL NOT NULL, \\\n",
    "        radargram_column INTEGER NOT NULL,\\\n",
    "        track_id INTEGER NOT NULL\\\n",
    "        );\"\n",
    "\n",
    "c.execute(sql)\n",
    "conn.commit()\n",
    "c.close()"
   ]
  },
  {
   "cell_type": "code",
   "execution_count": null,
   "metadata": {},
   "outputs": [],
   "source": []
  }
 ],
 "metadata": {
  "kernelspec": {
   "display_name": "Python 3",
   "language": "python",
   "name": "python3"
  },
  "language_info": {
   "codemirror_mode": {
    "name": "ipython",
    "version": 3
   },
   "file_extension": ".py",
   "mimetype": "text/x-python",
   "name": "python",
   "nbconvert_exporter": "python",
   "pygments_lexer": "ipython3",
   "version": "3.7.3"
  }
 },
 "nbformat": 4,
 "nbformat_minor": 2
}
